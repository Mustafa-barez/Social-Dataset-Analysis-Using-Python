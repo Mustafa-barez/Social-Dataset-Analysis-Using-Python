{
 "cells": [
  {
   "cell_type": "code",
   "execution_count": 7,
   "metadata": {},
   "outputs": [],
   "source": [
    "import matplotlib.pyplot as plt\n",
    "from typing import Tuple, TextIO\n",
    "import numpy as np\n",
    "%matplotlib inline"
   ]
  },
  {
   "cell_type": "code",
   "execution_count": 8,
   "metadata": {},
   "outputs": [
    {
     "ename": "ValueError",
     "evalue": "no field of name satisfactionalcofreq",
     "output_type": "error",
     "traceback": [
      "\u001b[1;31m---------------------------------------------------------------------------\u001b[0m",
      "\u001b[1;31mValueError\u001b[0m                                Traceback (most recent call last)",
      "\u001b[1;32m<ipython-input-8-38e40420f827>\u001b[0m in \u001b[0;36m<module>\u001b[1;34m\u001b[0m\n\u001b[0;32m    185\u001b[0m     \u001b[1;32mfor\u001b[0m \u001b[0mc\u001b[0m \u001b[1;32min\u001b[0m \u001b[0mNOMINAL\u001b[0m \u001b[1;33m+\u001b[0m \u001b[0mORDINAL\u001b[0m\u001b[1;33m:\u001b[0m\u001b[1;33m\u001b[0m\u001b[1;33m\u001b[0m\u001b[0m\n\u001b[0;32m    186\u001b[0m         \u001b[1;32mwith\u001b[0m \u001b[0mopen\u001b[0m\u001b[1;33m(\u001b[0m\u001b[1;34m\"csv/\"\u001b[0m\u001b[1;33m+\u001b[0m\u001b[0mc\u001b[0m\u001b[1;33m+\u001b[0m\u001b[1;34m'.csv'\u001b[0m\u001b[1;33m,\u001b[0m \u001b[1;34m'w'\u001b[0m\u001b[1;33m)\u001b[0m \u001b[1;32mas\u001b[0m \u001b[0mf\u001b[0m\u001b[1;33m:\u001b[0m\u001b[1;33m\u001b[0m\u001b[1;33m\u001b[0m\u001b[0m\n\u001b[1;32m--> 187\u001b[1;33m             \u001b[0mwrite_categorical_csv\u001b[0m\u001b[1;33m(\u001b[0m\u001b[0mCCHS\u001b[0m\u001b[1;33m,\u001b[0m \u001b[0mc\u001b[0m\u001b[1;33m,\u001b[0m \u001b[0mf\u001b[0m\u001b[1;33m)\u001b[0m\u001b[1;33m\u001b[0m\u001b[1;33m\u001b[0m\u001b[0m\n\u001b[0m\u001b[0;32m    188\u001b[0m \u001b[1;33m\u001b[0m\u001b[0m\n\u001b[0;32m    189\u001b[0m \u001b[1;33m\u001b[0m\u001b[0m\n",
      "\u001b[1;32m<ipython-input-8-38e40420f827>\u001b[0m in \u001b[0;36mwrite_categorical_csv\u001b[1;34m(data, column_name, outfile)\u001b[0m\n\u001b[0;32m    128\u001b[0m     '''      \n\u001b[0;32m    129\u001b[0m     \u001b[0moutfile\u001b[0m\u001b[1;33m.\u001b[0m\u001b[0mwrite\u001b[0m\u001b[1;33m(\u001b[0m\u001b[0mcolumn_name\u001b[0m \u001b[1;33m+\u001b[0m \u001b[1;34m',count\\n'\u001b[0m\u001b[1;33m)\u001b[0m\u001b[1;33m\u001b[0m\u001b[1;33m\u001b[0m\u001b[0m\n\u001b[1;32m--> 130\u001b[1;33m     \u001b[0mvalues\u001b[0m \u001b[1;33m=\u001b[0m \u001b[0mdata\u001b[0m\u001b[1;33m[\u001b[0m\u001b[0mcolumn_name\u001b[0m\u001b[1;33m]\u001b[0m\u001b[1;33m\u001b[0m\u001b[1;33m\u001b[0m\u001b[0m\n\u001b[0m\u001b[0;32m    131\u001b[0m     \u001b[0mcategory_count\u001b[0m \u001b[1;33m=\u001b[0m \u001b[0mnp\u001b[0m\u001b[1;33m.\u001b[0m\u001b[0munique\u001b[0m\u001b[1;33m(\u001b[0m\u001b[0mvalues\u001b[0m\u001b[1;33m,\u001b[0m \u001b[0mreturn_counts\u001b[0m \u001b[1;33m=\u001b[0m \u001b[1;32mTrue\u001b[0m\u001b[1;33m)\u001b[0m\u001b[1;33m\u001b[0m\u001b[1;33m\u001b[0m\u001b[0m\n\u001b[0;32m    132\u001b[0m     \u001b[1;32mfor\u001b[0m \u001b[0mkey\u001b[0m\u001b[1;33m,\u001b[0m \u001b[0mvalue\u001b[0m \u001b[1;32min\u001b[0m \u001b[0mnp\u001b[0m\u001b[1;33m.\u001b[0m\u001b[0mnditer\u001b[0m\u001b[1;33m(\u001b[0m\u001b[0mcategory_count\u001b[0m\u001b[1;33m)\u001b[0m\u001b[1;33m:\u001b[0m\u001b[1;33m\u001b[0m\u001b[1;33m\u001b[0m\u001b[0m\n",
      "\u001b[1;31mValueError\u001b[0m: no field of name satisfactionalcofreq"
     ]
    }
   ],
   "source": [
    "# Convenience Constant\n",
    "\n",
    "PROVINCE_CODES = (\n",
    "        ('10','NL'),\n",
    "        ('11','PE'),\n",
    "        ('12','NS'),\n",
    "        ('13','NB'),\n",
    "        ('24','QC'),\n",
    "        ('35','ON'),\n",
    "        ('46','MB'),\n",
    "        ('47','SK'),\n",
    "        ('48','AB'),\n",
    "        ('59','BC'),\n",
    "        ('60','NN') # NN is a combined code for NT, NU and YK\n",
    "    )\n",
    "\n",
    "# PART 1: PREPARATION\n",
    "\n",
    "# Change data types to:\n",
    "# - 'U2' for nominal\n",
    "# - int for ordinal\n",
    "# - float for interval\n",
    "# - float for ratio\n",
    "\n",
    "DATA_COLUMNS = [\n",
    "('alcofreq', int),\n",
    "('alcoweek', float),\n",
    "('biosex', 'U2'),\n",
    "('agegroup', float),\n",
    "('education', int),\n",
    "('fruitvegtot', float),\n",
    "('stressgen', int),\n",
    "('stresswork', int),\n",
    "('healthphys', int),\n",
    "('healthment', int),\n",
    "('satisfaction', int),\n",
    "('province', 'U2'),\n",
    "('hasdoctor', 'U2'),\n",
    "('bmi', float),\n",
    "('height', float),\n",
    "('weight', float),\n",
    "('incomegroup', float),\n",
    "('workhoursperweek', float),\n",
    "('firstlanguage', 'U2'),\n",
    "('yrsmokedaily', float)\n",
    "]\n",
    "\n",
    "\n",
    "# Fill out tuples with nominal, ordinal, interval, and ratio column names\n",
    "\n",
    "NOMINAL = ('biosex',\n",
    "           'province',\n",
    "           'hasdoctor',\n",
    "           'firstlanguage')\n",
    "\n",
    "ORDINAL = ('education',\n",
    "           'stressgen',\n",
    "           'stresswork',\n",
    "           'healthphys',\n",
    "           'healthment',\n",
    "           'satisfaction'\n",
    "           'alcofreq')\n",
    "\n",
    "INTERVAL = ('agegroup',\n",
    "            'incomegroup')\n",
    "\n",
    "RATIO = ('alcoweek',\n",
    "         'fruitvegtot',\n",
    "         'bmi',\n",
    "         'height',\n",
    "         'weight',\n",
    "         'workhoursperweek',\n",
    "         'yrsmokedaily')\n",
    "\n",
    "\n",
    "\n",
    "\n",
    "\n",
    "# PART 2: FUNCTIONS\n",
    "\n",
    "def replace_nominal_codes(data: np.array, column_name: str, codes: Tuple[Tuple[str, str]]) -> None:\n",
    "    '''Precondition: column_name exists in data and is a nominal data measurement scale.\n",
    "    codes is a tuple of tuples containing (old code, new code).\n",
    "\n",
    "    Change all occurrences of old code to new code in column_name of data.\n",
    "    \n",
    "    >>> replace_nominal_codes(CCHS, 'biosex', (('1', 'M'),('2', 'F')))\n",
    "    >>> CCHS['biosex'][0]\n",
    "    'F'\n",
    "    >>> CCHS['biosex'][-1]\n",
    "    'M'\n",
    "    '''\n",
    "    values = data[column_name]\n",
    "    for inner_code in codes:        \n",
    "        values[values == inner_code[0]] = inner_code[1]\n",
    "        \n",
    "        \n",
    "def replace_missing_with_nan(data: np.array, column_name: str, missing_codes: Tuple[float]) -> None:\n",
    "    '''Precondition: column_name exists in data and is a ratio data measurement scale.\n",
    "    missing_codes is a tuple containing codes that denote missing data.\n",
    "    Convert all values in column column_name of data that match the codes \n",
    "    in missing_codes to Not-A-Number values (np.nan)\n",
    "    \n",
    "    >>> replace_missing_with_nan(CCHS, 'alcoweek', (996,))\n",
    "    >>> CCHS['alcoweek'][2]\n",
    "    nan\n",
    "    >>> CCHS['alcoweek'][-3]\n",
    "    nan\n",
    "    '''\n",
    "    values = data[column_name]\n",
    "    for missing_data in missing_codes:\n",
    "        values[values == missing_data] = np.nan\n",
    "        \n",
    "        \n",
    "        \n",
    "def write_categorical_csv(data: np.array, column_name: str, outfile: TextIO) -> None:\n",
    "    '''Precondition: column_name exists in data and is nominal or ordinal data measurement scale.\n",
    "    Write to outfile the label and counts of each category contained in column_name of data.\n",
    "    \n",
    "    >>> with open(\"csv/biosex.csv\", 'w') as file:\n",
    "            write_categorical_csv(CCHS, 'biosex', file)\n",
    "    >>> with open(\"csv/biosex.csv\", 'r') as check:\n",
    "            for line in check:\n",
    "                print(line.strip())\n",
    "    biosex,count\n",
    "    F,832\n",
    "    M,668\n",
    "    '''      \n",
    "    outfile.write(column_name + ',count\\n')\n",
    "    values = data[column_name]\n",
    "    category_count = np.unique(values, return_counts = True)\n",
    "    for key, value in np.nditer(category_count):\n",
    "        outfile.write(str(key) + ',' + str(value) + '\\n')\n",
    "    \n",
    "\n",
    "\n",
    "def write_column_summary_csv(data: np.array, column_name: str, outfile: TextIO) -> None:\n",
    "    '''Precondition: column_name exists in data and is a non-nominal data measurement scale.\n",
    "    Write to outfile a line containing comma-separated values as follows:\n",
    "    - The column name\n",
    "    - The median of values in the column\n",
    "    - (if interval or ratio) The mean of values in the column, ignoring nan\n",
    "    - (if interval or ratio) The standard deviation of values in the column, ignoring nan\n",
    "    \n",
    "    (Examples not required)\n",
    "    \n",
    "    '''\n",
    "    values = data[column_name]\n",
    "    if column_name in ORDINAL:\n",
    "        outfile.write(column_name + ',' + str(np.nanmedian(values)) + ',,\\n')\n",
    "    else:\n",
    "        outfile.write(column_name + ',' + str(np.nanmedian(values)) + ',' + str(np.nanmean(values)) + ',' + str(np.nanstd(values)) +'\\n')\n",
    "        \n",
    "    '''\n",
    "    np.nanmean(data, axis=0)\n",
    "    np.nanmedian(data)\n",
    "    np.nan\n",
    "    '''\n",
    "    pass\n",
    "\n",
    "\n",
    "if __name__ == \"__main__\":\n",
    "    \n",
    "    # Uncomment when Part 1 is complete\n",
    "    \n",
    "    CCHS = np.genfromtxt('CCHSX.csv', delimiter=',', skip_header=1, dtype=DATA_COLUMNS)\n",
    "    \n",
    "    \n",
    "    # Uncomment when replace_nominal_codes is complete\n",
    "    \n",
    "    replace_nominal_codes(CCHS, 'biosex', (('1','M'),('2','F')))\n",
    "    replace_nominal_codes(CCHS, 'province', PROVINCE_CODES)\n",
    "    replace_nominal_codes(CCHS, 'hasdoctor', (('1','Y'),('2','N')))\n",
    "    replace_nominal_codes(CCHS, 'firstlanguage', (('1','EN'),('2','FR'),('3','EF'),('4','NO')))\n",
    "\n",
    "\n",
    "    # Uncomment when replace_missing_with_nan is complete\n",
    "    \n",
    "    replace_missing_with_nan(CCHS, 'alcoweek', (996,))\n",
    "    replace_missing_with_nan(CCHS, 'workhoursperweek', (996,))\n",
    "    \n",
    "    \n",
    "    # Uncomment when write_categorical_csv is complete\n",
    "    \n",
    "    for c in NOMINAL + ORDINAL:\n",
    "        with open(\"csv/\"+c+'.csv', 'w') as f:\n",
    "            write_categorical_csv(CCHS, c, f)\n",
    "    \n",
    "    \n",
    "    # Uncomment when write_column_summary_csv is complete\n",
    "    \n",
    "    with open(\"csv/summary.csv\", 'w') as f:\n",
    "        f.write(\"COLUMN,MEDIAN,MEAN,STDEV\\n\")\n",
    "        for n in ORDINAL + INTERVAL + RATIO:\n",
    "            write_column_summary_csv(CCHS, n, f)\n",
    "        \n",
    "    "
   ]
  },
  {
   "cell_type": "markdown",
   "metadata": {},
   "source": [
    "# Data Exploration Section"
   ]
  },
  {
   "cell_type": "markdown",
   "metadata": {},
   "source": [
    "The following section will display graphical information regarding the three variables:  \n",
    "    \n",
    "    stressgen - amount of stress in one's life ranging from 1 - 5, 5 being extremely stressed\n",
    "    healthphy - one's perceived health status ranging from 0 - 4, 4 being excellent \n",
    "    biosex - a person's sex, M for Male and F for Female"
   ]
  },
  {
   "cell_type": "markdown",
   "metadata": {},
   "source": [
    "The following statistics were taken from a sample of the Canadian Community Health Survey or CCHS provided Statistics Canada."
   ]
  },
  {
   "cell_type": "markdown",
   "metadata": {},
   "source": [
    "Here the question to be asked is: are levels of stress and physical health status higher or lower for males compared to females?"
   ]
  },
  {
   "cell_type": "markdown",
   "metadata": {},
   "source": [
    "To analyze this question, there will be scatterplots taken to compare the levels of stress generated and health status for both males and females.  "
   ]
  },
  {
   "cell_type": "code",
   "execution_count": 48,
   "metadata": {},
   "outputs": [
    {
     "data": {
      "image/png": "[encoded data removed]",
      "text/plain": [
       "<Figure size 432x288 with 1 Axes>"
      ]
     },
     "metadata": {
      "needs_background": "light"
     },
     "output_type": "display_data"
    }
   ],
   "source": [
    "plt.scatter(CCHS['stressgen'], CCHS['biosex'])\n",
    "plt.title('Stress Levels of Males vs. Females')\n",
    "plt.ylabel('Biosex')\n",
    "plt.xlabel('Stress Levels')\n",
    "plt.axis([-1, 10, -5, 5])\n",
    "plt.grid(True)\n",
    "plt.show()"
   ]
  },
  {
   "cell_type": "markdown",
   "metadata": {},
   "source": [
    "From the plot it can be seen the stress levels and health status levels are similar between males and females.  A plot was created for both males and females and compared the stress levels as well as the health status levels with the same limits on both the x-axis and y-axis.  On the y-axis males are shown as M and Females are shown as F, as the scatter plot moves further down the x-axis the stress levels of males and females are relatively similar with some variations in the 3rd points from the x-axis.  It can be seen from here that the stress levels between males and females are relatively similar.   "
   ]
  },
  {
   "cell_type": "code",
   "execution_count": 6,
   "metadata": {},
   "outputs": [
    {
     "data": {
      "image/png": "[encoded data removed]",
      "text/plain": [
       "<Figure size 432x288 with 1 Axes>"
      ]
     },
     "metadata": {
      "needs_background": "light"
     },
     "output_type": "display_data"
    }
   ],
   "source": [
    "plt.scatter(CCHS['healthphys'], CCHS['biosex'])\n",
    "plt.title('Physical Health Status of Males vs. Females')\n",
    "plt.ylabel('Biosex')\n",
    "plt.xlabel('Physical Health Status')\n",
    "plt.axis([-1, 10, -5, 5])\n",
    "plt.grid(True)\n",
    "plt.show()"
   ]
  },
  {
   "cell_type": "markdown",
   "metadata": {},
   "source": [
    "The physical health status displays similar results as their was little deviation between the health status of males and females.  Here the plot shows little to no deviation in the physical health status points of males against females and provides some insight as to their correlation.   "
   ]
  },
  {
   "cell_type": "markdown",
   "metadata": {},
   "source": [
    "Overall in can be seen from the scatterplots that little deviation exists between the physical health status and stress levels between males and females that participated in this survey.  This may be due to similar lifestyles and backgrounds between the individuals.  In order to gain more information regarding this area, a deeper analysis must be conducted regarding the day-to-day lives of the individuals studied."
   ]
  },
  {
   "cell_type": "code",
   "execution_count": null,
   "metadata": {},
   "outputs": [],
   "source": []
  }
 ],
 "metadata": {
  "kernelspec": {
   "display_name": "Python 3",
   "language": "python",
   "name": "python3"
  },
  "language_info": {
   "codemirror_mode": {
    "name": "ipython",
    "version": 3
   },
   "file_extension": ".py",
   "mimetype": "text/x-python",
   "name": "python",
   "nbconvert_exporter": "python",
   "pygments_lexer": "ipython3",
   "version": "3.7.3"
  }
 },
 "nbformat": 4,
 "nbformat_minor": 2
}
